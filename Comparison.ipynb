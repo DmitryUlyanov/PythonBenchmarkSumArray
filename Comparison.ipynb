{
 "cells": [
  {
   "cell_type": "code",
   "execution_count": 77,
   "metadata": {
    "collapsed": true
   },
   "outputs": [],
   "source": [
    "import operator\n",
    "import numpy as np\n",
    "N = int(10e6)\n",
    "array_list = range(N)\n",
    "array_np = np.arange(N)"
   ]
  },
  {
   "cell_type": "markdown",
   "metadata": {},
   "source": [
    "## Python"
   ]
  },
  {
   "cell_type": "code",
   "execution_count": 78,
   "metadata": {
    "collapsed": false
   },
   "outputs": [
    {
     "name": "stdout",
     "output_type": "stream",
     "text": [
      "1 loops, best of 3: 472 ms per loop\n"
     ]
    }
   ],
   "source": [
    "%%timeit\n",
    "\n",
    "s = 0\n",
    "for i in xrange(N):\n",
    "    s+=i"
   ]
  },
  {
   "cell_type": "markdown",
   "metadata": {},
   "source": [
    "#### loop"
   ]
  },
  {
   "cell_type": "code",
   "execution_count": 79,
   "metadata": {
    "collapsed": false
   },
   "outputs": [
    {
     "name": "stdout",
     "output_type": "stream",
     "text": [
      "1 loops, best of 3: 339 ms per loop\n"
     ]
    }
   ],
   "source": [
    "%%timeit\n",
    "s = 0\n",
    "for i in array_list:\n",
    "    s+=i"
   ]
  },
  {
   "cell_type": "code",
   "execution_count": 80,
   "metadata": {
    "collapsed": false
   },
   "outputs": [
    {
     "name": "stdout",
     "output_type": "stream",
     "text": [
      "1 loops, best of 3: 1.13 s per loop\n"
     ]
    }
   ],
   "source": [
    "%%timeit\n",
    "s = 0\n",
    "for i in array_np:\n",
    "    s+=i"
   ]
  },
  {
   "cell_type": "markdown",
   "metadata": {},
   "source": [
    "##### reduce"
   ]
  },
  {
   "cell_type": "code",
   "execution_count": 89,
   "metadata": {
    "collapsed": false
   },
   "outputs": [
    {
     "name": "stdout",
     "output_type": "stream",
     "text": [
      "1 loops, best of 3: 358 ms per loop\n"
     ]
    }
   ],
   "source": [
    "%%timeit\n",
    "s = reduce(operator.add,array_list)"
   ]
  },
  {
   "cell_type": "code",
   "execution_count": 82,
   "metadata": {
    "collapsed": false
   },
   "outputs": [
    {
     "name": "stdout",
     "output_type": "stream",
     "text": [
      "1 loops, best of 3: 1.01 s per loop\n"
     ]
    }
   ],
   "source": [
    "%%timeit\n",
    "s = reduce(operator.add,array_np)"
   ]
  },
  {
   "cell_type": "markdown",
   "metadata": {},
   "source": [
    "#### sum"
   ]
  },
  {
   "cell_type": "code",
   "execution_count": 83,
   "metadata": {
    "collapsed": false
   },
   "outputs": [
    {
     "name": "stdout",
     "output_type": "stream",
     "text": [
      "10 loops, best of 3: 66.6 ms per loop\n"
     ]
    }
   ],
   "source": [
    "%%timeit\n",
    "s = sum(array_list)"
   ]
  },
  {
   "cell_type": "code",
   "execution_count": 86,
   "metadata": {
    "collapsed": false
   },
   "outputs": [
    {
     "name": "stdout",
     "output_type": "stream",
     "text": [
      "1 loops, best of 3: 754 ms per loop\n"
     ]
    }
   ],
   "source": [
    "%%timeit\n",
    "s = sum(array_np)"
   ]
  },
  {
   "cell_type": "markdown",
   "metadata": {},
   "source": [
    "####np.sum"
   ]
  },
  {
   "cell_type": "code",
   "execution_count": 84,
   "metadata": {
    "collapsed": false
   },
   "outputs": [
    {
     "name": "stdout",
     "output_type": "stream",
     "text": [
      "1 loops, best of 3: 427 ms per loop\n"
     ]
    }
   ],
   "source": [
    "%%timeit\n",
    "s = np.sum(array_list)"
   ]
  },
  {
   "cell_type": "code",
   "execution_count": 85,
   "metadata": {
    "collapsed": false
   },
   "outputs": [
    {
     "name": "stdout",
     "output_type": "stream",
     "text": [
      "100 loops, best of 3: 5.81 ms per loop\n"
     ]
    }
   ],
   "source": [
    "%%timeit\n",
    "s = np.sum(array_np)"
   ]
  },
  {
   "cell_type": "markdown",
   "metadata": {},
   "source": [
    "###convert list to np.array on the fly"
   ]
  },
  {
   "cell_type": "code",
   "execution_count": 97,
   "metadata": {
    "collapsed": false
   },
   "outputs": [
    {
     "name": "stdout",
     "output_type": "stream",
     "text": [
      "1 loops, best of 3: 397 ms per loop\n"
     ]
    }
   ],
   "source": [
    "%%timeit\n",
    "s = np.sum(np.array(array_list))"
   ]
  },
  {
   "cell_type": "markdown",
   "metadata": {},
   "source": [
    "### plot plot plot"
   ]
  },
  {
   "cell_type": "code",
   "execution_count": 99,
   "metadata": {
    "collapsed": false
   },
   "outputs": [
    {
     "data": {
      "image/png": "[encoded data removed]",
      "text/plain": [
       "<matplotlib.figure.Figure at 0x7fe8d8658950>"
      ]
     },
     "metadata": {},
     "output_type": "display_data"
    },
    {
     "data": {
      "image/png": "[encoded data removed]",
      "text/plain": [
       "<matplotlib.figure.Figure at 0x7fe8d856df10>"
      ]
     },
     "metadata": {},
     "output_type": "display_data"
    }
   ],
   "source": [
    "times_list = {\n",
    "    'loop': 339,\n",
    "    'sum': 67,\n",
    "    'np.sum-': 427,\n",
    "    'reduce': 358\n",
    "}\n",
    "times_np = {    \n",
    "    'sum': 754,\n",
    "    'loop':1130,\n",
    "    'np.sum': 6,\n",
    "    'reduce': 1010\n",
    "    }\n",
    "\n",
    "plt.bar(np.arange(len(times_list)),times_list.values())\n",
    "plt.xticks( np.arange(len(times_list)),times_list.keys())\n",
    "plt.ylim(0,1200)\n",
    "plt.title('Times, list')\n",
    "plt.show()\n",
    "\n",
    "plt.bar(np.arange(len(times_np)),times_np.values())\n",
    "plt.xticks( np.arange(len(times_np)),times_np.keys())\n",
    "plt.ylim(0,1200)\n",
    "plt.title('Times, np.array')\n",
    "plt.show()"
   ]
  },
  {
   "cell_type": "markdown",
   "metadata": {},
   "source": [
    "## Pypy"
   ]
  },
  {
   "cell_type": "code",
   "execution_count": 4,
   "metadata": {
    "collapsed": false
   },
   "outputs": [
    {
     "name": "stdout",
     "output_type": "stream",
     "text": [
      "CPU times: user 4.03 ms, sys: 4.06 ms, total: 8.09 ms\n",
      "Wall time: 13 s\n"
     ]
    }
   ],
   "source": [
    "%%time\n",
    "%%capture\n",
    "%%pypy\n",
    "N = int(10e6)\n",
    "s = 0\n",
    "for j in xrange(1000):\n",
    "    for i in xrange(N):\n",
    "        s+=i"
   ]
  },
  {
   "cell_type": "markdown",
   "metadata": {},
   "source": [
    "### hence 13ms per loop"
   ]
  },
  {
   "cell_type": "code",
   "execution_count": 5,
   "metadata": {
    "collapsed": false
   },
   "outputs": [
    {
     "name": "stderr",
     "output_type": "stream",
     "text": [
      "pypy: /home/dmitry/anaconda/lib/libssl.so.1.0.0: no version information available (required by /home/dmitry/git/pypy-2.5.1-linux64/bin/libpypy-c.so)\n",
      "pypy: /home/dmitry/anaconda/lib/libssl.so.1.0.0: no version information available (required by /home/dmitry/git/pypy-2.5.1-linux64/bin/libpypy-c.so)\n",
      "pypy: /home/dmitry/anaconda/lib/libcrypto.so.1.0.0: no version information available (required by /home/dmitry/git/pypy-2.5.1-linux64/bin/libpypy-c.so)\n"
     ]
    },
    {
     "name": "stdout",
     "output_type": "stream",
     "text": [
      "CPU times: user 4.15 ms, sys: 4.21 ms, total: 8.36 ms\n",
      "Wall time: 12.5 s\n"
     ]
    }
   ],
   "source": [
    "%%time\n",
    "%%pypy\n",
    "N = int(10e6)\n",
    "\n",
    "array = range(N)\n",
    "\n",
    "s = 0\n",
    "for j in xrange(1000):\n",
    "    for i in array:\n",
    "        s+=i"
   ]
  },
  {
   "cell_type": "markdown",
   "metadata": {},
   "source": [
    "### hence 12.5ms per loop"
   ]
  },
  {
   "cell_type": "markdown",
   "metadata": {},
   "source": [
    "## Numba"
   ]
  },
  {
   "cell_type": "markdown",
   "metadata": {},
   "source": [
    "### Python"
   ]
  },
  {
   "cell_type": "code",
   "execution_count": 100,
   "metadata": {
    "collapsed": true
   },
   "outputs": [],
   "source": [
    "from numba.decorators import autojit\n",
    "\n",
    "def loop(array):\n",
    "    s = 0\n",
    "    for i in array:\n",
    "        s+=i\n",
    "\n",
    "loop_numba = autojit(loop)"
   ]
  },
  {
   "cell_type": "code",
   "execution_count": 101,
   "metadata": {
    "collapsed": false
   },
   "outputs": [],
   "source": [
    "loop_numba(array_list)"
   ]
  },
  {
   "cell_type": "code",
   "execution_count": 102,
   "metadata": {
    "collapsed": false
   },
   "outputs": [
    {
     "name": "stdout",
     "output_type": "stream",
     "text": [
      "1 loops, best of 3: 632 ms per loop\n"
     ]
    }
   ],
   "source": [
    "%%timeit\n",
    "loop_numba(array)"
   ]
  },
  {
   "cell_type": "markdown",
   "metadata": {},
   "source": [
    "### NoPython"
   ]
  },
  {
   "cell_type": "markdown",
   "metadata": {},
   "source": [
    "### loop"
   ]
  },
  {
   "cell_type": "code",
   "execution_count": 103,
   "metadata": {
    "collapsed": true
   },
   "outputs": [],
   "source": [
    "from numba.decorators import autojit\n",
    "\n",
    "def loop():\n",
    "    s = 0\n",
    "    for i in xrange(N):\n",
    "        s+=i\n",
    "\n",
    "loop_numba = autojit(loop, nopython=True)"
   ]
  },
  {
   "cell_type": "code",
   "execution_count": 104,
   "metadata": {
    "collapsed": true
   },
   "outputs": [],
   "source": [
    "loop_numba()"
   ]
  },
  {
   "cell_type": "code",
   "execution_count": 105,
   "metadata": {
    "collapsed": false
   },
   "outputs": [
    {
     "name": "stdout",
     "output_type": "stream",
     "text": [
      "The slowest run took 27.47 times longer than the fastest. This could mean that an intermediate result is being cached \n",
      "10000000 loops, best of 3: 78.1 ns per loop\n"
     ]
    }
   ],
   "source": [
    "%%timeit\n",
    "loop_numba()"
   ]
  },
  {
   "cell_type": "markdown",
   "metadata": {},
   "source": [
    "### sum array"
   ]
  },
  {
   "cell_type": "code",
   "execution_count": 106,
   "metadata": {
    "collapsed": true
   },
   "outputs": [],
   "source": [
    "from numba.decorators import autojit\n",
    "\n",
    "def loop(array):\n",
    "    s = 0\n",
    "    for i in xrange(array.shape[0]):\n",
    "        s+=array[i]\n",
    "\n",
    "loop_numba = autojit(loop, nopython=True)"
   ]
  },
  {
   "cell_type": "code",
   "execution_count": 107,
   "metadata": {
    "collapsed": false,
    "scrolled": true
   },
   "outputs": [],
   "source": [
    "loop_numba(array_np)"
   ]
  },
  {
   "cell_type": "code",
   "execution_count": 108,
   "metadata": {
    "collapsed": false
   },
   "outputs": [
    {
     "name": "stdout",
     "output_type": "stream",
     "text": [
      "The slowest run took 41.09 times longer than the fastest. This could mean that an intermediate result is being cached \n",
      "1000000 loops, best of 3: 191 ns per loop\n"
     ]
    }
   ],
   "source": [
    "%%timeit\n",
    "loop_numba(array_np)"
   ]
  },
  {
   "cell_type": "markdown",
   "metadata": {},
   "source": [
    "## Cython"
   ]
  },
  {
   "cell_type": "markdown",
   "metadata": {},
   "source": [
    "#### loop"
   ]
  },
  {
   "cell_type": "code",
   "execution_count": 109,
   "metadata": {
    "collapsed": false
   },
   "outputs": [
    {
     "name": "stdout",
     "output_type": "stream",
     "text": [
      "The Cython extension is already loaded. To reload it, use:\n",
      "  %reload_ext Cython\n"
     ]
    }
   ],
   "source": [
    "%load_ext Cython"
   ]
  },
  {
   "cell_type": "code",
   "execution_count": 110,
   "metadata": {
    "collapsed": false
   },
   "outputs": [],
   "source": [
    "%%cython\n",
    "\n",
    "cimport cython \n",
    "\n",
    "@cython.boundscheck(False)\n",
    "@cython.wraparound(False)\n",
    "def loop_cython():\n",
    "    cdef long s,N\n",
    "    N = int(10e6)\n",
    "    s = 0\n",
    "    for i in xrange(N):\n",
    "        s += i"
   ]
  },
  {
   "cell_type": "code",
   "execution_count": 111,
   "metadata": {
    "collapsed": false
   },
   "outputs": [
    {
     "name": "stdout",
     "output_type": "stream",
     "text": [
      "1 loops, best of 3: 252 ms per loop\n"
     ]
    }
   ],
   "source": [
    "%%timeit\n",
    "loop_cython()"
   ]
  },
  {
   "cell_type": "markdown",
   "metadata": {},
   "source": [
    "#### sum array"
   ]
  },
  {
   "cell_type": "code",
   "execution_count": 112,
   "metadata": {
    "collapsed": false
   },
   "outputs": [],
   "source": [
    "%%cython\n",
    "cimport numpy as np\n",
    "cimport cython \n",
    "\n",
    "@cython.boundscheck(False)\n",
    "@cython.wraparound(False)\n",
    "def loop_cython(np.ndarray[long, ndim=1] array):\n",
    "    cdef long s\n",
    "    s = 0\n",
    "    for i in xrange(array.shape[0]):\n",
    "        s += array[i]"
   ]
  },
  {
   "cell_type": "code",
   "execution_count": 115,
   "metadata": {
    "collapsed": false
   },
   "outputs": [
    {
     "name": "stdout",
     "output_type": "stream",
     "text": [
      "The slowest run took 29.73 times longer than the fastest. This could mean that an intermediate result is being cached \n",
      "1000000 loops, best of 3: 273 ns per loop\n"
     ]
    }
   ],
   "source": [
    "%%timeit\n",
    "loop_cython(array_np)"
   ]
  },
  {
   "cell_type": "markdown",
   "metadata": {},
   "source": [
    "#Numpy"
   ]
  },
  {
   "cell_type": "code",
   "execution_count": 117,
   "metadata": {
    "collapsed": false
   },
   "outputs": [
    {
     "name": "stdout",
     "output_type": "stream",
     "text": [
      "100 loops, best of 3: 5.77 ms per loop\n"
     ]
    }
   ],
   "source": [
    "%%timeit\n",
    "array_np.sum()"
   ]
  },
  {
   "cell_type": "markdown",
   "metadata": {},
   "source": [
    "#### Interesting"
   ]
  },
  {
   "cell_type": "code",
   "execution_count": 118,
   "metadata": {
    "collapsed": false
   },
   "outputs": [
    {
     "name": "stdout",
     "output_type": "stream",
     "text": [
      "The slowest run took 54.42 times longer than the fastest. This could mean that an intermediate result is being cached \n",
      "10000000 loops, best of 3: 74.5 ns per loop\n"
     ]
    }
   ],
   "source": [
    "%%timeit\n",
    "array_np.shape"
   ]
  },
  {
   "cell_type": "code",
   "execution_count": 120,
   "metadata": {
    "collapsed": false
   },
   "outputs": [
    {
     "name": "stdout",
     "output_type": "stream",
     "text": [
      "The slowest run took 29.37 times longer than the fastest. This could mean that an intermediate result is being cached \n",
      "10000000 loops, best of 3: 65 ns per loop\n"
     ]
    }
   ],
   "source": [
    "%%timeit\n",
    "len(array_list)"
   ]
  },
  {
   "cell_type": "markdown",
   "metadata": {},
   "source": [
    "##Outline"
   ]
  },
  {
   "cell_type": "code",
   "execution_count": 121,
   "metadata": {
    "collapsed": false
   },
   "outputs": [],
   "source": [
    "import matplotlib.pyplot as plt\n",
    "%matplotlib inline"
   ]
  },
  {
   "cell_type": "code",
   "execution_count": 122,
   "metadata": {
    "collapsed": false
   },
   "outputs": [],
   "source": [
    "plt.rcParams['figure.figsize'] = (16, 4)"
   ]
  },
  {
   "cell_type": "code",
   "execution_count": 125,
   "metadata": {
    "collapsed": false
   },
   "outputs": [
    {
     "data": {
      "image/png": "[encoded data removed]",
      "text/plain": [
       "<matplotlib.figure.Figure at 0x7fe8dd77db90>"
      ]
     },
     "metadata": {},
     "output_type": "display_data"
    },
    {
     "data": {
      "image/png": "[encoded data removed]",
      "text/plain": [
       "<matplotlib.figure.Figure at 0x7fe8d8428590>"
      ]
     },
     "metadata": {},
     "output_type": "display_data"
    }
   ],
   "source": [
    "times = {\n",
    "    'python' : 422000,\n",
    "    'numba-nopython': 191,\n",
    "    'numba':640000,\n",
    "    'cython': 278,\n",
    "    'numpy': 57000,\n",
    "    'pypy': 125000,\n",
    "    }\n",
    "\n",
    "plt.bar(np.arange(len(times)),times.values())\n",
    "plt.xticks( np.arange(len(times)),times.keys())\n",
    "plt.title('Times')\n",
    "plt.show()\n",
    "\n",
    "plt.bar(np.arange(len(times)),np.log(times.values()))\n",
    "plt.xticks( np.arange(len(times)),times.keys())\n",
    "plt.title('Log times')\n",
    "plt.show()"
   ]
  }
 ],
 "metadata": {
  "kernelspec": {
   "display_name": "Python 2",
   "language": "python",
   "name": "python2"
  },
  "language_info": {
   "codemirror_mode": {
    "name": "ipython",
    "version": 2
   },
   "file_extension": ".py",
   "mimetype": "text/x-python",
   "name": "python",
   "nbconvert_exporter": "python",
   "pygments_lexer": "ipython2",
   "version": "2.7.9"
  }
 },
 "nbformat": 4,
 "nbformat_minor": 0
}
