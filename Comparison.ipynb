{
 "cells": [
  {
   "cell_type": "markdown",
   "metadata": {},
   "source": [
    "## Python"
   ]
  },
  {
   "cell_type": "code",
   "execution_count": 1,
   "metadata": {
    "collapsed": true
   },
   "outputs": [],
   "source": [
    "N = int(10e6)"
   ]
  },
  {
   "cell_type": "code",
   "execution_count": 29,
   "metadata": {
    "collapsed": false
   },
   "outputs": [
    {
     "name": "stdout",
     "output_type": "stream",
     "text": [
      "1 loops, best of 3: 469 ms per loop\n"
     ]
    }
   ],
   "source": [
    "%%timeit\n",
    "\n",
    "s = 0\n",
    "for i in xrange(N):\n",
    "    s+=i"
   ]
  },
  {
   "cell_type": "code",
   "execution_count": 30,
   "metadata": {
    "collapsed": false
   },
   "outputs": [
    {
     "name": "stdout",
     "output_type": "stream",
     "text": [
      "1 loops, best of 3: 422 ms per loop\n"
     ]
    }
   ],
   "source": [
    "%%timeit\n",
    "array = range(N)\n",
    "s = 0\n",
    "for i in array:\n",
    "    s+=i"
   ]
  },
  {
   "cell_type": "markdown",
   "metadata": {},
   "source": [
    "## Pypy"
   ]
  },
  {
   "cell_type": "code",
   "execution_count": 4,
   "metadata": {
    "collapsed": false
   },
   "outputs": [
    {
     "name": "stdout",
     "output_type": "stream",
     "text": [
      "CPU times: user 4.03 ms, sys: 4.06 ms, total: 8.09 ms\n",
      "Wall time: 13 s\n"
     ]
    }
   ],
   "source": [
    "%%time\n",
    "%%capture\n",
    "%%pypy\n",
    "N = int(10e6)\n",
    "s = 0\n",
    "for j in xrange(1000):\n",
    "    for i in xrange(N):\n",
    "        s+=i"
   ]
  },
  {
   "cell_type": "markdown",
   "metadata": {},
   "source": [
    "### hence 13ms per loop"
   ]
  },
  {
   "cell_type": "code",
   "execution_count": 5,
   "metadata": {
    "collapsed": false
   },
   "outputs": [
    {
     "name": "stderr",
     "output_type": "stream",
     "text": [
      "pypy: /home/dmitry/anaconda/lib/libssl.so.1.0.0: no version information available (required by /home/dmitry/git/pypy-2.5.1-linux64/bin/libpypy-c.so)\n",
      "pypy: /home/dmitry/anaconda/lib/libssl.so.1.0.0: no version information available (required by /home/dmitry/git/pypy-2.5.1-linux64/bin/libpypy-c.so)\n",
      "pypy: /home/dmitry/anaconda/lib/libcrypto.so.1.0.0: no version information available (required by /home/dmitry/git/pypy-2.5.1-linux64/bin/libpypy-c.so)\n"
     ]
    },
    {
     "name": "stdout",
     "output_type": "stream",
     "text": [
      "CPU times: user 4.15 ms, sys: 4.21 ms, total: 8.36 ms\n",
      "Wall time: 12.5 s\n"
     ]
    }
   ],
   "source": [
    "%%time\n",
    "%%pypy\n",
    "N = int(10e6)\n",
    "\n",
    "array = range(N)\n",
    "\n",
    "s = 0\n",
    "for j in xrange(1000):\n",
    "    for i in array:\n",
    "        s+=i"
   ]
  },
  {
   "cell_type": "markdown",
   "metadata": {},
   "source": [
    "### hence 12.5ms per loop"
   ]
  },
  {
   "cell_type": "markdown",
   "metadata": {},
   "source": [
    "## Numba"
   ]
  },
  {
   "cell_type": "markdown",
   "metadata": {},
   "source": [
    "### Python"
   ]
  },
  {
   "cell_type": "code",
   "execution_count": 6,
   "metadata": {
    "collapsed": true
   },
   "outputs": [],
   "source": [
    "from numba.decorators import autojit\n",
    "\n",
    "def loop(array):\n",
    "    s = 0\n",
    "    for i in array:\n",
    "        s+=i\n",
    "\n",
    "loop_numba = autojit(loop)"
   ]
  },
  {
   "cell_type": "code",
   "execution_count": 7,
   "metadata": {
    "collapsed": false
   },
   "outputs": [],
   "source": [
    "array = range(N)\n",
    "loop_numba(array)"
   ]
  },
  {
   "cell_type": "code",
   "execution_count": 8,
   "metadata": {
    "collapsed": false
   },
   "outputs": [
    {
     "name": "stdout",
     "output_type": "stream",
     "text": [
      "1 loops, best of 3: 649 ms per loop\n"
     ]
    }
   ],
   "source": [
    "%%timeit\n",
    "loop_numba(array)"
   ]
  },
  {
   "cell_type": "markdown",
   "metadata": {},
   "source": [
    "### NoPython"
   ]
  },
  {
   "cell_type": "code",
   "execution_count": 9,
   "metadata": {
    "collapsed": true
   },
   "outputs": [],
   "source": [
    "from numba.decorators import autojit\n",
    "\n",
    "def loop():\n",
    "    s = 0\n",
    "    for i in xrange(N):\n",
    "        s+=i\n",
    "\n",
    "loop_numba = autojit(loop, nopython=True)"
   ]
  },
  {
   "cell_type": "code",
   "execution_count": 10,
   "metadata": {
    "collapsed": true
   },
   "outputs": [],
   "source": [
    "loop_numba()"
   ]
  },
  {
   "cell_type": "code",
   "execution_count": 11,
   "metadata": {
    "collapsed": false
   },
   "outputs": [
    {
     "name": "stdout",
     "output_type": "stream",
     "text": [
      "The slowest run took 24.22 times longer than the fastest. This could mean that an intermediate result is being cached \n",
      "10000000 loops, best of 3: 78.7 ns per loop\n"
     ]
    }
   ],
   "source": [
    "%%timeit\n",
    "loop_numba()"
   ]
  },
  {
   "cell_type": "code",
   "execution_count": 12,
   "metadata": {
    "collapsed": true
   },
   "outputs": [],
   "source": [
    "from numba.decorators import autojit\n",
    "\n",
    "def loop(array):\n",
    "    s = 0\n",
    "    for i in xrange(array.shape[0]):\n",
    "        s+=array[i]\n",
    "\n",
    "loop_numba = autojit(loop, nopython=True)"
   ]
  },
  {
   "cell_type": "code",
   "execution_count": 13,
   "metadata": {
    "collapsed": false,
    "scrolled": true
   },
   "outputs": [],
   "source": [
    "import numpy as np\n",
    "array = np.arange(N)\n",
    "loop_numba(array)"
   ]
  },
  {
   "cell_type": "code",
   "execution_count": 14,
   "metadata": {
    "collapsed": false
   },
   "outputs": [
    {
     "name": "stdout",
     "output_type": "stream",
     "text": [
      "The slowest run took 20.70 times longer than the fastest. This could mean that an intermediate result is being cached \n",
      "1000000 loops, best of 3: 196 ns per loop\n"
     ]
    }
   ],
   "source": [
    "%%timeit\n",
    "loop_numba(array)"
   ]
  },
  {
   "cell_type": "markdown",
   "metadata": {},
   "source": [
    "## Cython"
   ]
  },
  {
   "cell_type": "markdown",
   "metadata": {},
   "source": [
    "#### 1"
   ]
  },
  {
   "cell_type": "code",
   "execution_count": 15,
   "metadata": {
    "collapsed": false
   },
   "outputs": [],
   "source": [
    "%load_ext Cython"
   ]
  },
  {
   "cell_type": "code",
   "execution_count": 16,
   "metadata": {
    "collapsed": false
   },
   "outputs": [],
   "source": [
    "%%cython\n",
    "\n",
    "cimport cython \n",
    "\n",
    "@cython.boundscheck(False)\n",
    "@cython.wraparound(False)\n",
    "def loop_cython():\n",
    "    cdef long s,N\n",
    "    N = int(10e6)\n",
    "    s = 0\n",
    "    for i in xrange(N):\n",
    "        s += i"
   ]
  },
  {
   "cell_type": "code",
   "execution_count": 17,
   "metadata": {
    "collapsed": false
   },
   "outputs": [
    {
     "name": "stdout",
     "output_type": "stream",
     "text": [
      "1 loops, best of 3: 251 ms per loop\n"
     ]
    }
   ],
   "source": [
    "%%timeit\n",
    "loop_cython()"
   ]
  },
  {
   "cell_type": "markdown",
   "metadata": {},
   "source": [
    "#### 2"
   ]
  },
  {
   "cell_type": "code",
   "execution_count": 18,
   "metadata": {
    "collapsed": false
   },
   "outputs": [],
   "source": [
    "%%cython\n",
    "cimport numpy as np\n",
    "cimport cython \n",
    "\n",
    "@cython.boundscheck(False)\n",
    "@cython.wraparound(False)\n",
    "def loop_cython(np.ndarray[long, ndim=1] array):\n",
    "    cdef long s\n",
    "    s = 0\n",
    "    for i in xrange(array.shape[0]):\n",
    "        s += array[i]"
   ]
  },
  {
   "cell_type": "code",
   "execution_count": 19,
   "metadata": {
    "collapsed": false
   },
   "outputs": [
    {
     "name": "stdout",
     "output_type": "stream",
     "text": [
      "The slowest run took 47.18 times longer than the fastest. This could mean that an intermediate result is being cached \n",
      "1000000 loops, best of 3: 278 ns per loop\n"
     ]
    }
   ],
   "source": [
    "%%timeit\n",
    "loop_cython(array)"
   ]
  },
  {
   "cell_type": "markdown",
   "metadata": {},
   "source": [
    "#Numpy"
   ]
  },
  {
   "cell_type": "code",
   "execution_count": 20,
   "metadata": {
    "collapsed": false
   },
   "outputs": [],
   "source": [
    "import numpy as np\n",
    "array = np.arange(N)"
   ]
  },
  {
   "cell_type": "code",
   "execution_count": 21,
   "metadata": {
    "collapsed": false
   },
   "outputs": [
    {
     "name": "stdout",
     "output_type": "stream",
     "text": [
      "100 loops, best of 3: 5.52 ms per loop\n"
     ]
    }
   ],
   "source": [
    "%%timeit\n",
    "array.sum()"
   ]
  },
  {
   "cell_type": "markdown",
   "metadata": {},
   "source": [
    "#### Interesting"
   ]
  },
  {
   "cell_type": "code",
   "execution_count": 22,
   "metadata": {
    "collapsed": false
   },
   "outputs": [
    {
     "name": "stdout",
     "output_type": "stream",
     "text": [
      "The slowest run took 39.02 times longer than the fastest. This could mean that an intermediate result is being cached \n",
      "10000000 loops, best of 3: 73.3 ns per loop\n"
     ]
    }
   ],
   "source": [
    "%%timeit\n",
    "array.shape"
   ]
  },
  {
   "cell_type": "markdown",
   "metadata": {},
   "source": [
    "##Outline"
   ]
  },
  {
   "cell_type": "code",
   "execution_count": 23,
   "metadata": {
    "collapsed": false
   },
   "outputs": [],
   "source": [
    "import numpy as np\n",
    "import pandas as pd \n",
    "import matplotlib.pyplot as plt\n",
    "%matplotlib inline"
   ]
  },
  {
   "cell_type": "code",
   "execution_count": 24,
   "metadata": {
    "collapsed": false
   },
   "outputs": [],
   "source": [
    "plt.rcParams['figure.figsize'] = (16, 4)"
   ]
  },
  {
   "cell_type": "code",
   "execution_count": 28,
   "metadata": {
    "collapsed": false
   },
   "outputs": [
    {
     "data": {
      "image/png": "[encoded data removed]",
      "text/plain": [
       "<matplotlib.figure.Figure at 0x7fe8dd9fe950>"
      ]
     },
     "metadata": {},
     "output_type": "display_data"
    },
    {
     "data": {
      "image/png": "[encoded data removed]",
      "text/plain": [
       "<matplotlib.figure.Figure at 0x7fe8dd757710>"
      ]
     },
     "metadata": {},
     "output_type": "display_data"
    }
   ],
   "source": [
    "times = {\n",
    "    'python' : 422000,\n",
    "    'numba-nopython': 191,\n",
    "    'numba':640000,\n",
    "    'cython': 278,\n",
    "    'numpy': 57000,\n",
    "    'pypy': 125000\n",
    "    }\n",
    "\n",
    "plt.bar(np.arange(len(times)),times.values())\n",
    "plt.xticks( np.arange(len(times)),times.keys())\n",
    "plt.title('Times')\n",
    "plt.show()\n",
    "\n",
    "plt.bar(np.arange(len(times)),np.log(times.values()))\n",
    "plt.xticks( np.arange(len(times)),times.keys())\n",
    "plt.title('Log times')\n",
    "plt.show()"
   ]
  }
 ],
 "metadata": {
  "kernelspec": {
   "display_name": "Python 2",
   "language": "python",
   "name": "python2"
  },
  "language_info": {
   "codemirror_mode": {
    "name": "ipython",
    "version": 2
   },
   "file_extension": ".py",
   "mimetype": "text/x-python",
   "name": "python",
   "nbconvert_exporter": "python",
   "pygments_lexer": "ipython2",
   "version": "2.7.9"
  }
 },
 "nbformat": 4,
 "nbformat_minor": 0
}
